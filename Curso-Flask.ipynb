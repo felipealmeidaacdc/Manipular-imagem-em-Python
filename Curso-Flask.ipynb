{
 "cells": [
  {
   "cell_type": "markdown",
   "metadata": {},
   "source": [
    "<font color=\"black\"><h1>Criando uma aplicação web super rápido</h1></font>"
   ]
  },
  {
   "cell_type": "code",
   "execution_count": null,
   "metadata": {},
   "outputs": [],
   "source": [
    "from flask import Flask, render_template,request,redirect"
   ]
  },
  {
   "cell_type": "code",
   "execution_count": null,
   "metadata": {},
   "outputs": [],
   "source": [
    "app = Flask(__name__)"
   ]
  },
  {
   "cell_type": "code",
   "execution_count": null,
   "metadata": {},
   "outputs": [],
   "source": [
    "# definindo a classe jogo\n",
    "class Jogo:\n",
    "    def __init__(self, nome, categoria, console):\n",
    "        self.nome = nome\n",
    "        self.categoria = categoria\n",
    "        self.console = console\n",
    "\n",
    "jogo1 = Jogo('Super Mario', 'Acao', 'SNES')\n",
    "jogo2 = Jogo('Pokemon Gold', 'RPG', 'GBA')\n",
    "jogo3 = Jogo('Mortal Kombat', 'LutA', 'SNES')\n",
    "lista = [jogo1, jogo2, jogo3]"
   ]
  },
  {
   "cell_type": "code",
   "execution_count": null,
   "metadata": {},
   "outputs": [],
   "source": [
    "# listando os jogos inserido\n",
    "@app.route('/')\n",
    "def index():\n",
    "    return render_template('lista.html', titulo='Jogos',\n",
    "                           jogos=lista)"
   ]
  },
  {
   "cell_type": "code",
   "execution_count": null,
   "metadata": {},
   "outputs": [],
   "source": [
    "# criando novo jogo\n",
    "@app.route('/novo')\n",
    "def novo():\n",
    "    return render_template('novo.html', titulo='Novo jogo')\n",
    "#app.run()"
   ]
  },
  {
   "cell_type": "code",
   "execution_count": null,
   "metadata": {},
   "outputs": [],
   "source": [
    "#jogo criado\n",
    "@app.route('/criar', methods=['POST',])\n",
    "def criar():\n",
    "    nome = request.form['nome']\n",
    "    categoria = request.form['categoria']\n",
    "    console = request.form['console']\n",
    "    jogo = Jogo(nome, categoria, console)\n",
    "    lista.append(jogo)\n",
    "    return redirect('/')"
   ]
  },
  {
   "cell_type": "code",
   "execution_count": null,
   "metadata": {},
   "outputs": [],
   "source": [
    "app.run()"
   ]
  },
  {
   "cell_type": "code",
   "execution_count": null,
   "metadata": {},
   "outputs": [],
   "source": []
  }
 ],
 "metadata": {
  "kernelspec": {
   "display_name": "Python 3",
   "language": "python",
   "name": "python3"
  },
  "language_info": {
   "codemirror_mode": {
    "name": "ipython",
    "version": 3
   },
   "file_extension": ".py",
   "mimetype": "text/x-python",
   "name": "python",
   "nbconvert_exporter": "python",
   "pygments_lexer": "ipython3",
   "version": "3.7.3"
  }
 },
 "nbformat": 4,
 "nbformat_minor": 2
}
