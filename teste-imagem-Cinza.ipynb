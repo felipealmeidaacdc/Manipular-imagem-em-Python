{
 "cells": [
  {
   "cell_type": "code",
   "execution_count": 10,
   "metadata": {},
   "outputs": [],
   "source": [
    "#bibliotecas\n",
    "import numpy as np\n",
    "import zipfile\n",
    "import cv2 as cv\n",
    "from matplotlib import pyplot as plt\n",
    "import json\n",
    "import base64 "
   ]
  },
  {
   "cell_type": "code",
   "execution_count": 32,
   "metadata": {},
   "outputs": [],
   "source": [
    "#convertendo a imagem na escala de cinza\n",
    "imagem = cv.imread('pikachu.jpg',0)\n",
    "#gray = cv.cvtColor(img, cv.COLOR_BGR2GRAY)\n"
   ]
  },
  {
   "cell_type": "code",
   "execution_count": 12,
   "metadata": {},
   "outputs": [],
   "source": []
  },
  {
   "cell_type": "code",
   "execution_count": 35,
   "metadata": {},
   "outputs": [],
   "source": [
    "altura = len(imagem[0])\n",
    "largura = len(imagem)\n",
    "\n",
    "for x in range( altura-1):\n",
    "    for y in range(largura-1):\n",
    "        if (imagem[x][y]== imagem[x+1][y]):\n",
    "            pass\n",
    "        else:\n",
    "            imagem[x][y] = 0\n",
    "            \n",
    "            \n",
    "            \n"
   ]
  },
  {
   "cell_type": "code",
   "execution_count": 36,
   "metadata": {},
   "outputs": [],
   "source": [
    "cv.imshow('Estudo OpenCV- Filtro', imagem)\n",
    "cv.waitKey(0)\n",
    "cv.destroyAllWindows()"
   ]
  },
  {
   "cell_type": "code",
   "execution_count": null,
   "metadata": {},
   "outputs": [],
   "source": [
    "cv.imwrite('teste.jpg', img)"
   ]
  },
  {
   "cell_type": "code",
   "execution_count": null,
   "metadata": {},
   "outputs": [],
   "source": [
    "#exibindo o array\n",
    "print(imagem)"
   ]
  },
  {
   "cell_type": "code",
   "execution_count": null,
   "metadata": {},
   "outputs": [],
   "source": [
    "#criando uma copia da imagem\n",
    "cv.imwrite('lala.jpg', imagem)"
   ]
  },
  {
   "cell_type": "code",
   "execution_count": null,
   "metadata": {},
   "outputs": [],
   "source": [
    "#pegando as cordenadas do pixel\n",
    "comprimento = len(img)\n",
    "largura = len(img[0])\n",
    "variavel = {f\"{x}/{y}\":str(img[x][y])for x in range(comprimento) for y in range(largura)}\n"
   ]
  },
  {
   "cell_type": "code",
   "execution_count": null,
   "metadata": {},
   "outputs": [],
   "source": [
    "variavel"
   ]
  },
  {
   "cell_type": "code",
   "execution_count": null,
   "metadata": {},
   "outputs": [],
   "source": [
    "# transformando a imagem em base64\n",
    "data = {}\n",
    "with open('lala.jpg', mode='rb') as file:\n",
    "    img = file.read()\n",
    "data = base64.encodebytes(img).decode(\"utf-8\")\n",
    "\n",
    "arquivo = open('b64_imagem.txt','w')\n",
    "arquivo.write(str(data))\n",
    "arquivo.close()"
   ]
  },
  {
   "cell_type": "code",
   "execution_count": null,
   "metadata": {},
   "outputs": [],
   "source": [
    "#compactando a imagem b64\n",
    "zip_file = zipfile.ZipFile('b64.zip', 'w')\n",
    "zip_file.write('b64_imagem.txt', compress_type=zipfile.ZIP_DEFLATED)\n",
    "zip_file.close()"
   ]
  },
  {
   "cell_type": "code",
   "execution_count": null,
   "metadata": {},
   "outputs": [],
   "source": [
    "#lendo a imagem em base64\n",
    "arquivo = open('position.txt')\n",
    "teste=arquivo.read()\n",
    "arquivo.close()\n",
    "print(teste)"
   ]
  },
  {
   "cell_type": "code",
   "execution_count": null,
   "metadata": {},
   "outputs": [],
   "source": [
    "filename = \"teste.jpg\"\n",
    "img = base64.b64decode(teste)\n",
    "with open(filename,\"wb\") as f:\n",
    "    f.write(img)\n"
   ]
  },
  {
   "cell_type": "code",
   "execution_count": 6,
   "metadata": {},
   "outputs": [
    {
     "data": {
      "text/plain": [
       "-1"
      ]
     },
     "execution_count": 6,
     "metadata": {},
     "output_type": "execute_result"
    }
   ],
   "source": [
    "cv.imshow('Estudo OpenCV- Filtro', img)\n",
    "cv.waitKey(0)"
   ]
  },
  {
   "cell_type": "code",
   "execution_count": null,
   "metadata": {},
   "outputs": [],
   "source": [
    "for x in range(altura-1):\n",
    "    for y in range(comprimento-1):\n",
    "        if (imagem[x][y] == imagem[x+1][y]).all() or (imagem[x][y] == imagem[x][y+1]).all() :\n",
    "            imagem[x][y] = [255,255,255]\n",
    "        else:\n",
    "            imagem[x][y] = [255,0,0]"
   ]
  }
 ],
 "metadata": {
  "kernelspec": {
   "display_name": "Python 3",
   "language": "python",
   "name": "python3"
  },
  "language_info": {
   "codemirror_mode": {
    "name": "ipython",
    "version": 3
   },
   "file_extension": ".py",
   "mimetype": "text/x-python",
   "name": "python",
   "nbconvert_exporter": "python",
   "pygments_lexer": "ipython3",
   "version": "3.7.3"
  }
 },
 "nbformat": 4,
 "nbformat_minor": 2
}
