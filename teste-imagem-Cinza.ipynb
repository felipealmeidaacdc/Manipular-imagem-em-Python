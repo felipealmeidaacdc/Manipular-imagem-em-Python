{
 "cells": [
  {
   "cell_type": "code",
   "execution_count": null,
   "metadata": {},
   "outputs": [],
   "source": [
    "#bibliotecas\n",
    "import numpy as np\n",
    "import zipfile\n",
    "import cv2 as cv\n",
    "from matplotlib import pyplot as plt\n",
    "import json\n",
    "import base64 "
   ]
  },
  {
   "cell_type": "code",
   "execution_count": null,
   "metadata": {},
   "outputs": [],
   "source": [
    "#convertendo a imagem na escala de cinza\n",
    "img = cv.imread('lala.jpg',0)\n",
    "#gray = cv.cvtColor(img, cv.COLOR_BGR2GRAY)\n",
    "#cv.imshow('Estudo OpenCV- Filtro', img)\n",
    "#cv.waitKey(0)"
   ]
  },
  {
   "cell_type": "code",
   "execution_count": null,
   "metadata": {},
   "outputs": [],
   "source": [
    "#retornando tamanho do array\n",
    "imagem = np.array(img)"
   ]
  },
  {
   "cell_type": "code",
   "execution_count": null,
   "metadata": {},
   "outputs": [],
   "source": [
    "#imagem = np.array(img)\n",
    "altura,largura = np.shape(imagem)\n",
    "for x in range(0,altura):\n",
    "        for y in range(0,largura):\n",
    "            print(imagem[x][y])\n",
    "\n"
   ]
  },
  {
   "cell_type": "code",
   "execution_count": null,
   "metadata": {},
   "outputs": [],
   "source": [
    "print(largura)"
   ]
  },
  {
   "cell_type": "code",
   "execution_count": null,
   "metadata": {},
   "outputs": [],
   "source": [
    "#exibindo o array\n",
    "print(imagem)"
   ]
  },
  {
   "cell_type": "code",
   "execution_count": null,
   "metadata": {},
   "outputs": [],
   "source": [
    "#criando uma copia da imagem\n",
    "cv.imwrite('lala.jpg', imagem)"
   ]
  },
  {
   "cell_type": "code",
   "execution_count": null,
   "metadata": {},
   "outputs": [],
   "source": [
    "#pegando as cordenadas\n",
    "comprimento = len(img)\n",
    "largura = len(img[0])\n",
    "variavel = {f\"{x}/{y}\":str(img[x][y])for x in range(comprimento) for y in range(largura)}\n"
   ]
  },
  {
   "cell_type": "code",
   "execution_count": null,
   "metadata": {},
   "outputs": [],
   "source": [
    "variavel"
   ]
  },
  {
   "cell_type": "code",
   "execution_count": null,
   "metadata": {},
   "outputs": [],
   "source": [
    "# transformando a imagem em base64\n",
    "\n",
    "data = {}\n",
    "with open('lala.jpg', mode='rb') as file:\n",
    "    img = file.read()\n",
    "data = base64.encodebytes(img).decode(\"utf-8\")\n",
    "\n",
    "arquivo = open('b64_imagem.txt','w')\n",
    "arquivo.write(str(data))\n",
    "arquivo.close()"
   ]
  },
  {
   "cell_type": "code",
   "execution_count": null,
   "metadata": {},
   "outputs": [],
   "source": [
    "#compactando a imagem\n",
    "zip_file = zipfile.ZipFile('b64.zip', 'w')\n",
    "zip_file.write('b64_imagem.txt', compress_type=zipfile.ZIP_DEFLATED)\n",
    "zip_file.close()"
   ]
  },
  {
   "cell_type": "code",
   "execution_count": null,
   "metadata": {},
   "outputs": [],
   "source": [
    "#lendo a imagem em base64\n",
    "arquivo = open('b64_imagem.txt')\n",
    "teste=arquivo.read()\n",
    "arquivo.close()\n",
    "print(teste)"
   ]
  },
  {
   "cell_type": "code",
   "execution_count": null,
   "metadata": {},
   "outputs": [],
   "source": [
    "filename = \"teste.jpg\"\n",
    "img = base64.b64decode(teste)\n",
    "with open(filename,\"wb\") as f:\n",
    "    f.write(img)\n"
   ]
  },
  {
   "cell_type": "code",
   "execution_count": null,
   "metadata": {},
   "outputs": [],
   "source": []
  }
 ],
 "metadata": {
  "kernelspec": {
   "display_name": "Python 3",
   "language": "python",
   "name": "python3"
  },
  "language_info": {
   "codemirror_mode": {
    "name": "ipython",
    "version": 3
   },
   "file_extension": ".py",
   "mimetype": "text/x-python",
   "name": "python",
   "nbconvert_exporter": "python",
   "pygments_lexer": "ipython3",
   "version": "3.7.3"
  }
 },
 "nbformat": 4,
 "nbformat_minor": 2
}
